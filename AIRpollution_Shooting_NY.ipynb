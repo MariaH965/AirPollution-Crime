{
 "cells": [
  {
   "cell_type": "code",
   "execution_count": null,
   "id": "a5aef807-9627-4154-bcde-70426c8eca6d",
   "metadata": {},
   "outputs": [],
   "source": [
    "###### "
   ]
  },
  {
   "cell_type": "code",
   "execution_count": 1,
   "id": "c5f7197e-f4ac-43b0-8012-b1c283d9cd91",
   "metadata": {},
   "outputs": [],
   "source": [
    "###### Loading modules ######\n",
    "\n",
    "import matplotlib.pyplot as plt  \n",
    "import pandas as pd \n",
    "import numpy as np\n",
    "import seaborn as sns \n",
    "import matplotlib.ticker as ticker\n",
    "import sklearn\n",
    "\n",
    "##############################"
   ]
  },
  {
   "cell_type": "code",
   "execution_count": null,
   "id": "d94d5997-ba32-456c-8829-bf55f9fe2eb6",
   "metadata": {},
   "outputs": [],
   "source": [
    "#Load, process, and merge all the yearly AQI data onto a dataaset. \n",
    "#Cut down the dataset to only include the Date/Overall AQI/Main Pollutant. "
   ]
  },
  {
   "cell_type": "code",
   "execution_count": 2,
   "id": "00cfed6d-671d-4918-8fe6-759aa8bc9747",
   "metadata": {},
   "outputs": [],
   "source": [
    "###### The four datasets need to be merged into one ######\n",
    "AQny_17 = pd.read_csv('AQINY17.csv')\n",
    "AQny_18 = pd.read_csv('AQINY18.csv')\n",
    "AQny_19 = pd.read_csv('AQINY19.csv')\n",
    "AQny_20 = pd.read_csv('AQINY20.csv')"
   ]
  },
  {
   "cell_type": "code",
   "execution_count": null,
   "id": "2deed171-3509-4d0f-891b-8b23f65b22e7",
   "metadata": {},
   "outputs": [],
   "source": [
    "###### Concatenating the datasets "
   ]
  },
  {
   "cell_type": "code",
   "execution_count": 3,
   "id": "8340f294-8210-4396-a65d-1453b50f6f1d",
   "metadata": {},
   "outputs": [
    {
     "data": {
      "text/html": [
       "<div>\n",
       "<style scoped>\n",
       "    .dataframe tbody tr th:only-of-type {\n",
       "        vertical-align: middle;\n",
       "    }\n",
       "\n",
       "    .dataframe tbody tr th {\n",
       "        vertical-align: top;\n",
       "    }\n",
       "\n",
       "    .dataframe thead th {\n",
       "        text-align: right;\n",
       "    }\n",
       "</style>\n",
       "<table border=\"1\" class=\"dataframe\">\n",
       "  <thead>\n",
       "    <tr style=\"text-align: right;\">\n",
       "      <th></th>\n",
       "      <th>Date</th>\n",
       "      <th>Overall AQI Value</th>\n",
       "      <th>Main Pollutant</th>\n",
       "      <th>Site Name (of Overall AQI)</th>\n",
       "      <th>Site ID (of Overall AQI)</th>\n",
       "      <th>Source (of Overall AQI)</th>\n",
       "      <th>CO</th>\n",
       "      <th>Ozone</th>\n",
       "      <th>PM10</th>\n",
       "      <th>PM25</th>\n",
       "      <th>NO2</th>\n",
       "    </tr>\n",
       "  </thead>\n",
       "  <tbody>\n",
       "    <tr>\n",
       "      <th>0</th>\n",
       "      <td>1/1/17</td>\n",
       "      <td>59</td>\n",
       "      <td>PM2.5</td>\n",
       "      <td>Intermediate School 143</td>\n",
       "      <td>36-061-0115</td>\n",
       "      <td>AQS</td>\n",
       "      <td>11</td>\n",
       "      <td>34</td>\n",
       "      <td>11</td>\n",
       "      <td>59</td>\n",
       "      <td>44</td>\n",
       "    </tr>\n",
       "    <tr>\n",
       "      <th>1</th>\n",
       "      <td>1/2/17</td>\n",
       "      <td>60</td>\n",
       "      <td>PM2.5</td>\n",
       "      <td>Elizabeth Lab</td>\n",
       "      <td>34-039-0004</td>\n",
       "      <td>AQS</td>\n",
       "      <td>13</td>\n",
       "      <td>33</td>\n",
       "      <td>.</td>\n",
       "      <td>60</td>\n",
       "      <td>43</td>\n",
       "    </tr>\n",
       "    <tr>\n",
       "      <th>2</th>\n",
       "      <td>1/3/17</td>\n",
       "      <td>43</td>\n",
       "      <td>PM2.5</td>\n",
       "      <td>PS 19</td>\n",
       "      <td>36-061-0128</td>\n",
       "      <td>AQS</td>\n",
       "      <td>7</td>\n",
       "      <td>32</td>\n",
       "      <td>.</td>\n",
       "      <td>43</td>\n",
       "      <td>42</td>\n",
       "    </tr>\n",
       "    <tr>\n",
       "      <th>3</th>\n",
       "      <td>1/4/17</td>\n",
       "      <td>46</td>\n",
       "      <td>PM2.5</td>\n",
       "      <td>PS 19</td>\n",
       "      <td>36-061-0128</td>\n",
       "      <td>AQS</td>\n",
       "      <td>6</td>\n",
       "      <td>32</td>\n",
       "      <td>7</td>\n",
       "      <td>46</td>\n",
       "      <td>27</td>\n",
       "    </tr>\n",
       "    <tr>\n",
       "      <th>4</th>\n",
       "      <td>1/5/17</td>\n",
       "      <td>49</td>\n",
       "      <td>PM2.5</td>\n",
       "      <td>FRESHKILLS WEST</td>\n",
       "      <td>36-085-0111</td>\n",
       "      <td>AQS</td>\n",
       "      <td>6</td>\n",
       "      <td>32</td>\n",
       "      <td>.</td>\n",
       "      <td>49</td>\n",
       "      <td>28</td>\n",
       "    </tr>\n",
       "    <tr>\n",
       "      <th>...</th>\n",
       "      <td>...</td>\n",
       "      <td>...</td>\n",
       "      <td>...</td>\n",
       "      <td>...</td>\n",
       "      <td>...</td>\n",
       "      <td>...</td>\n",
       "      <td>...</td>\n",
       "      <td>...</td>\n",
       "      <td>...</td>\n",
       "      <td>...</td>\n",
       "      <td>...</td>\n",
       "    </tr>\n",
       "    <tr>\n",
       "      <th>1456</th>\n",
       "      <td>12/27/20</td>\n",
       "      <td>55</td>\n",
       "      <td>PM2.5</td>\n",
       "      <td>EISENHOWER PARK</td>\n",
       "      <td>36-059-0005</td>\n",
       "      <td>AQS</td>\n",
       "      <td>6</td>\n",
       "      <td>29</td>\n",
       "      <td>.</td>\n",
       "      <td>55</td>\n",
       "      <td>36</td>\n",
       "    </tr>\n",
       "    <tr>\n",
       "      <th>1457</th>\n",
       "      <td>12/28/20</td>\n",
       "      <td>55</td>\n",
       "      <td>PM2.5</td>\n",
       "      <td>Flemington</td>\n",
       "      <td>34-019-0001</td>\n",
       "      <td>AQS</td>\n",
       "      <td>6</td>\n",
       "      <td>30</td>\n",
       "      <td>.</td>\n",
       "      <td>55</td>\n",
       "      <td>42</td>\n",
       "    </tr>\n",
       "    <tr>\n",
       "      <th>1458</th>\n",
       "      <td>12/29/20</td>\n",
       "      <td>51</td>\n",
       "      <td>PM2.5</td>\n",
       "      <td>NEWBURGH</td>\n",
       "      <td>36-071-0002</td>\n",
       "      <td>AQS</td>\n",
       "      <td>7</td>\n",
       "      <td>34</td>\n",
       "      <td>8</td>\n",
       "      <td>51</td>\n",
       "      <td>33</td>\n",
       "    </tr>\n",
       "    <tr>\n",
       "      <th>1459</th>\n",
       "      <td>12/30/20</td>\n",
       "      <td>45</td>\n",
       "      <td>PM2.5</td>\n",
       "      <td>Elizabeth Lab</td>\n",
       "      <td>34-039-0004</td>\n",
       "      <td>AQS</td>\n",
       "      <td>5</td>\n",
       "      <td>32</td>\n",
       "      <td>.</td>\n",
       "      <td>45</td>\n",
       "      <td>41</td>\n",
       "    </tr>\n",
       "    <tr>\n",
       "      <th>1460</th>\n",
       "      <td>12/31/20</td>\n",
       "      <td>51</td>\n",
       "      <td>PM2.5</td>\n",
       "      <td>Intermediate School 143</td>\n",
       "      <td>36-061-0115</td>\n",
       "      <td>AQS</td>\n",
       "      <td>5</td>\n",
       "      <td>28</td>\n",
       "      <td>.</td>\n",
       "      <td>51</td>\n",
       "      <td>34</td>\n",
       "    </tr>\n",
       "  </tbody>\n",
       "</table>\n",
       "<p>1461 rows × 11 columns</p>\n",
       "</div>"
      ],
      "text/plain": [
       "          Date  Overall AQI Value Main Pollutant Site Name (of Overall AQI)  \\\n",
       "0       1/1/17                 59          PM2.5    Intermediate School 143   \n",
       "1       1/2/17                 60          PM2.5              Elizabeth Lab   \n",
       "2       1/3/17                 43          PM2.5                      PS 19   \n",
       "3       1/4/17                 46          PM2.5                      PS 19   \n",
       "4       1/5/17                 49          PM2.5            FRESHKILLS WEST   \n",
       "...        ...                ...            ...                        ...   \n",
       "1456  12/27/20                 55          PM2.5            EISENHOWER PARK   \n",
       "1457  12/28/20                 55          PM2.5                 Flemington   \n",
       "1458  12/29/20                 51          PM2.5                   NEWBURGH   \n",
       "1459  12/30/20                 45          PM2.5              Elizabeth Lab   \n",
       "1460  12/31/20                 51          PM2.5    Intermediate School 143   \n",
       "\n",
       "     Site ID (of Overall AQI) Source (of Overall AQI)  CO  Ozone PM10  PM25  \\\n",
       "0                 36-061-0115                     AQS  11     34   11    59   \n",
       "1                 34-039-0004                     AQS  13     33    .    60   \n",
       "2                 36-061-0128                     AQS   7     32    .    43   \n",
       "3                 36-061-0128                     AQS   6     32    7    46   \n",
       "4                 36-085-0111                     AQS   6     32    .    49   \n",
       "...                       ...                     ...  ..    ...  ...   ...   \n",
       "1456              36-059-0005                     AQS   6     29    .    55   \n",
       "1457              34-019-0001                     AQS   6     30    .    55   \n",
       "1458              36-071-0002                     AQS   7     34    8    51   \n",
       "1459              34-039-0004                     AQS   5     32    .    45   \n",
       "1460              36-061-0115                     AQS   5     28    .    51   \n",
       "\n",
       "      NO2  \n",
       "0      44  \n",
       "1      43  \n",
       "2      42  \n",
       "3      27  \n",
       "4      28  \n",
       "...   ...  \n",
       "1456   36  \n",
       "1457   42  \n",
       "1458   33  \n",
       "1459   41  \n",
       "1460   34  \n",
       "\n",
       "[1461 rows x 11 columns]"
      ]
     },
     "execution_count": 3,
     "metadata": {},
     "output_type": "execute_result"
    }
   ],
   "source": [
    "AQny = pd.concat([AQny_17, AQny_18, AQny_19, AQny_20], ignore_index=True) \n",
    "AQny"
   ]
  },
  {
   "cell_type": "code",
   "execution_count": null,
   "id": "8360a492-a3d7-4d97-9055-c80f54806944",
   "metadata": {},
   "outputs": [],
   "source": [
    "###### Dropping the columns that will not be used ######"
   ]
  },
  {
   "cell_type": "code",
   "execution_count": 4,
   "id": "ecc0adf3-9c61-4b82-bb97-43144c7ed049",
   "metadata": {},
   "outputs": [
    {
     "data": {
      "text/html": [
       "<div>\n",
       "<style scoped>\n",
       "    .dataframe tbody tr th:only-of-type {\n",
       "        vertical-align: middle;\n",
       "    }\n",
       "\n",
       "    .dataframe tbody tr th {\n",
       "        vertical-align: top;\n",
       "    }\n",
       "\n",
       "    .dataframe thead th {\n",
       "        text-align: right;\n",
       "    }\n",
       "</style>\n",
       "<table border=\"1\" class=\"dataframe\">\n",
       "  <thead>\n",
       "    <tr style=\"text-align: right;\">\n",
       "      <th></th>\n",
       "      <th>Date</th>\n",
       "      <th>Overall AQI Value</th>\n",
       "      <th>Main Pollutant</th>\n",
       "      <th>CO</th>\n",
       "      <th>Ozone</th>\n",
       "      <th>PM10</th>\n",
       "      <th>PM25</th>\n",
       "      <th>NO2</th>\n",
       "    </tr>\n",
       "  </thead>\n",
       "  <tbody>\n",
       "    <tr>\n",
       "      <th>0</th>\n",
       "      <td>1/1/17</td>\n",
       "      <td>59</td>\n",
       "      <td>PM2.5</td>\n",
       "      <td>11</td>\n",
       "      <td>34</td>\n",
       "      <td>11</td>\n",
       "      <td>59</td>\n",
       "      <td>44</td>\n",
       "    </tr>\n",
       "    <tr>\n",
       "      <th>1</th>\n",
       "      <td>1/2/17</td>\n",
       "      <td>60</td>\n",
       "      <td>PM2.5</td>\n",
       "      <td>13</td>\n",
       "      <td>33</td>\n",
       "      <td>.</td>\n",
       "      <td>60</td>\n",
       "      <td>43</td>\n",
       "    </tr>\n",
       "    <tr>\n",
       "      <th>2</th>\n",
       "      <td>1/3/17</td>\n",
       "      <td>43</td>\n",
       "      <td>PM2.5</td>\n",
       "      <td>7</td>\n",
       "      <td>32</td>\n",
       "      <td>.</td>\n",
       "      <td>43</td>\n",
       "      <td>42</td>\n",
       "    </tr>\n",
       "    <tr>\n",
       "      <th>3</th>\n",
       "      <td>1/4/17</td>\n",
       "      <td>46</td>\n",
       "      <td>PM2.5</td>\n",
       "      <td>6</td>\n",
       "      <td>32</td>\n",
       "      <td>7</td>\n",
       "      <td>46</td>\n",
       "      <td>27</td>\n",
       "    </tr>\n",
       "    <tr>\n",
       "      <th>4</th>\n",
       "      <td>1/5/17</td>\n",
       "      <td>49</td>\n",
       "      <td>PM2.5</td>\n",
       "      <td>6</td>\n",
       "      <td>32</td>\n",
       "      <td>.</td>\n",
       "      <td>49</td>\n",
       "      <td>28</td>\n",
       "    </tr>\n",
       "    <tr>\n",
       "      <th>...</th>\n",
       "      <td>...</td>\n",
       "      <td>...</td>\n",
       "      <td>...</td>\n",
       "      <td>...</td>\n",
       "      <td>...</td>\n",
       "      <td>...</td>\n",
       "      <td>...</td>\n",
       "      <td>...</td>\n",
       "    </tr>\n",
       "    <tr>\n",
       "      <th>1456</th>\n",
       "      <td>12/27/20</td>\n",
       "      <td>55</td>\n",
       "      <td>PM2.5</td>\n",
       "      <td>6</td>\n",
       "      <td>29</td>\n",
       "      <td>.</td>\n",
       "      <td>55</td>\n",
       "      <td>36</td>\n",
       "    </tr>\n",
       "    <tr>\n",
       "      <th>1457</th>\n",
       "      <td>12/28/20</td>\n",
       "      <td>55</td>\n",
       "      <td>PM2.5</td>\n",
       "      <td>6</td>\n",
       "      <td>30</td>\n",
       "      <td>.</td>\n",
       "      <td>55</td>\n",
       "      <td>42</td>\n",
       "    </tr>\n",
       "    <tr>\n",
       "      <th>1458</th>\n",
       "      <td>12/29/20</td>\n",
       "      <td>51</td>\n",
       "      <td>PM2.5</td>\n",
       "      <td>7</td>\n",
       "      <td>34</td>\n",
       "      <td>8</td>\n",
       "      <td>51</td>\n",
       "      <td>33</td>\n",
       "    </tr>\n",
       "    <tr>\n",
       "      <th>1459</th>\n",
       "      <td>12/30/20</td>\n",
       "      <td>45</td>\n",
       "      <td>PM2.5</td>\n",
       "      <td>5</td>\n",
       "      <td>32</td>\n",
       "      <td>.</td>\n",
       "      <td>45</td>\n",
       "      <td>41</td>\n",
       "    </tr>\n",
       "    <tr>\n",
       "      <th>1460</th>\n",
       "      <td>12/31/20</td>\n",
       "      <td>51</td>\n",
       "      <td>PM2.5</td>\n",
       "      <td>5</td>\n",
       "      <td>28</td>\n",
       "      <td>.</td>\n",
       "      <td>51</td>\n",
       "      <td>34</td>\n",
       "    </tr>\n",
       "  </tbody>\n",
       "</table>\n",
       "<p>1461 rows × 8 columns</p>\n",
       "</div>"
      ],
      "text/plain": [
       "          Date  Overall AQI Value Main Pollutant  CO  Ozone PM10  PM25  NO2\n",
       "0       1/1/17                 59          PM2.5  11     34   11    59   44\n",
       "1       1/2/17                 60          PM2.5  13     33    .    60   43\n",
       "2       1/3/17                 43          PM2.5   7     32    .    43   42\n",
       "3       1/4/17                 46          PM2.5   6     32    7    46   27\n",
       "4       1/5/17                 49          PM2.5   6     32    .    49   28\n",
       "...        ...                ...            ...  ..    ...  ...   ...  ...\n",
       "1456  12/27/20                 55          PM2.5   6     29    .    55   36\n",
       "1457  12/28/20                 55          PM2.5   6     30    .    55   42\n",
       "1458  12/29/20                 51          PM2.5   7     34    8    51   33\n",
       "1459  12/30/20                 45          PM2.5   5     32    .    45   41\n",
       "1460  12/31/20                 51          PM2.5   5     28    .    51   34\n",
       "\n",
       "[1461 rows x 8 columns]"
      ]
     },
     "execution_count": 4,
     "metadata": {},
     "output_type": "execute_result"
    }
   ],
   "source": [
    "AQny = AQny.drop(columns=['Site Name (of Overall AQI)', 'Site ID (of Overall AQI)',  'Source (of Overall AQI)'], axis=1)\n",
    "#AQny = AQny.drop(columns=['CO', 'Ozone', 'PM10', 'PM25', 'NO2'], axis=1)\n",
    "AQny #Sometimes the whole thing needs to be reloaded to stop it from throwing up the error about the axis. "
   ]
  },
  {
   "cell_type": "code",
   "execution_count": 5,
   "id": "e227d55d-7111-4330-bb27-4add40f32475",
   "metadata": {},
   "outputs": [],
   "source": [
    "Shooting_incidents = pd.read_csv('Shooting_Incident .csv')"
   ]
  },
  {
   "cell_type": "code",
   "execution_count": null,
   "id": "0b100f3a-9308-4cae-b836-8e63f8125ea1",
   "metadata": {},
   "outputs": [],
   "source": [
    "###### Loading and cleaning up columns that won't be used ######"
   ]
  },
  {
   "cell_type": "code",
   "execution_count": 6,
   "id": "38465419-bc3e-43ea-82f4-1ccc0328b7b1",
   "metadata": {},
   "outputs": [
    {
     "data": {
      "text/html": [
       "<div>\n",
       "<style scoped>\n",
       "    .dataframe tbody tr th:only-of-type {\n",
       "        vertical-align: middle;\n",
       "    }\n",
       "\n",
       "    .dataframe tbody tr th {\n",
       "        vertical-align: top;\n",
       "    }\n",
       "\n",
       "    .dataframe thead th {\n",
       "        text-align: right;\n",
       "    }\n",
       "</style>\n",
       "<table border=\"1\" class=\"dataframe\">\n",
       "  <thead>\n",
       "    <tr style=\"text-align: right;\">\n",
       "      <th></th>\n",
       "      <th>OCCUR_DATE</th>\n",
       "      <th>OCCUR_TIME</th>\n",
       "      <th>STATISTICAL_MURDER_FLAG</th>\n",
       "    </tr>\n",
       "  </thead>\n",
       "  <tbody>\n",
       "    <tr>\n",
       "      <th>0</th>\n",
       "      <td>5/27/21</td>\n",
       "      <td>21:30:00</td>\n",
       "      <td>False</td>\n",
       "    </tr>\n",
       "    <tr>\n",
       "      <th>1</th>\n",
       "      <td>6/27/14</td>\n",
       "      <td>17:40:00</td>\n",
       "      <td>False</td>\n",
       "    </tr>\n",
       "    <tr>\n",
       "      <th>2</th>\n",
       "      <td>11/21/15</td>\n",
       "      <td>3:56:00</td>\n",
       "      <td>True</td>\n",
       "    </tr>\n",
       "    <tr>\n",
       "      <th>3</th>\n",
       "      <td>10/9/15</td>\n",
       "      <td>18:30:00</td>\n",
       "      <td>False</td>\n",
       "    </tr>\n",
       "    <tr>\n",
       "      <th>4</th>\n",
       "      <td>2/19/09</td>\n",
       "      <td>22:58:00</td>\n",
       "      <td>True</td>\n",
       "    </tr>\n",
       "    <tr>\n",
       "      <th>...</th>\n",
       "      <td>...</td>\n",
       "      <td>...</td>\n",
       "      <td>...</td>\n",
       "    </tr>\n",
       "    <tr>\n",
       "      <th>27307</th>\n",
       "      <td>5/14/22</td>\n",
       "      <td>3:02:00</td>\n",
       "      <td>False</td>\n",
       "    </tr>\n",
       "    <tr>\n",
       "      <th>27308</th>\n",
       "      <td>1/22/22</td>\n",
       "      <td>13:15:00</td>\n",
       "      <td>False</td>\n",
       "    </tr>\n",
       "    <tr>\n",
       "      <th>27309</th>\n",
       "      <td>6/18/22</td>\n",
       "      <td>3:29:00</td>\n",
       "      <td>False</td>\n",
       "    </tr>\n",
       "    <tr>\n",
       "      <th>27310</th>\n",
       "      <td>6/19/22</td>\n",
       "      <td>20:08:00</td>\n",
       "      <td>False</td>\n",
       "    </tr>\n",
       "    <tr>\n",
       "      <th>27311</th>\n",
       "      <td>1/28/22</td>\n",
       "      <td>18:14:00</td>\n",
       "      <td>False</td>\n",
       "    </tr>\n",
       "  </tbody>\n",
       "</table>\n",
       "<p>27312 rows × 3 columns</p>\n",
       "</div>"
      ],
      "text/plain": [
       "      OCCUR_DATE OCCUR_TIME  STATISTICAL_MURDER_FLAG\n",
       "0        5/27/21   21:30:00                    False\n",
       "1        6/27/14   17:40:00                    False\n",
       "2       11/21/15    3:56:00                     True\n",
       "3        10/9/15   18:30:00                    False\n",
       "4        2/19/09   22:58:00                     True\n",
       "...          ...        ...                      ...\n",
       "27307    5/14/22    3:02:00                    False\n",
       "27308    1/22/22   13:15:00                    False\n",
       "27309    6/18/22    3:29:00                    False\n",
       "27310    6/19/22   20:08:00                    False\n",
       "27311    1/28/22   18:14:00                    False\n",
       "\n",
       "[27312 rows x 3 columns]"
      ]
     },
     "execution_count": 6,
     "metadata": {},
     "output_type": "execute_result"
    }
   ],
   "source": [
    "Shooting_incidents = Shooting_incidents.drop(columns=['INCIDENT_KEY', 'BORO', 'LOC_OF_OCCUR_DESC', 'PRECINCT', 'JURISDICTION_CODE'], axis=1)\n",
    "Shooting_incidents = Shooting_incidents.drop(columns=['LOC_CLASSFCTN_DESC', 'LOCATION_DESC', 'PERP_AGE_GROUP', 'PERP_RACE', 'VIC_AGE_GROUP'], axis=1) \n",
    "Shooting_incidents = Shooting_incidents.drop(columns=['VIC_RACE', 'X_COORD_CD', 'Y_COORD_CD', 'Latitude', 'Longitude', 'Lon_Lat', 'PERP_SEX', 'VIC_SEX'], axis=1)  \n",
    "Shooting_incidents"
   ]
  },
  {
   "cell_type": "code",
   "execution_count": null,
   "id": "5c95fdc1-55b1-4359-91de-f80602b94eac",
   "metadata": {},
   "outputs": [],
   "source": [
    "###### Classifying the truth values of the statistical murder flag as type int to be used as a count ######"
   ]
  },
  {
   "cell_type": "code",
   "execution_count": 7,
   "id": "98a230a2-7989-40fd-8290-cf8649450f9c",
   "metadata": {},
   "outputs": [
    {
     "data": {
      "text/html": [
       "<div>\n",
       "<style scoped>\n",
       "    .dataframe tbody tr th:only-of-type {\n",
       "        vertical-align: middle;\n",
       "    }\n",
       "\n",
       "    .dataframe tbody tr th {\n",
       "        vertical-align: top;\n",
       "    }\n",
       "\n",
       "    .dataframe thead th {\n",
       "        text-align: right;\n",
       "    }\n",
       "</style>\n",
       "<table border=\"1\" class=\"dataframe\">\n",
       "  <thead>\n",
       "    <tr style=\"text-align: right;\">\n",
       "      <th></th>\n",
       "      <th>OCCUR_DATE</th>\n",
       "      <th>OCCUR_TIME</th>\n",
       "      <th>STATISTICAL_MURDER_FLAG</th>\n",
       "    </tr>\n",
       "  </thead>\n",
       "  <tbody>\n",
       "    <tr>\n",
       "      <th>0</th>\n",
       "      <td>5/27/21</td>\n",
       "      <td>21:30:00</td>\n",
       "      <td>0</td>\n",
       "    </tr>\n",
       "    <tr>\n",
       "      <th>1</th>\n",
       "      <td>6/27/14</td>\n",
       "      <td>17:40:00</td>\n",
       "      <td>0</td>\n",
       "    </tr>\n",
       "    <tr>\n",
       "      <th>2</th>\n",
       "      <td>11/21/15</td>\n",
       "      <td>3:56:00</td>\n",
       "      <td>1</td>\n",
       "    </tr>\n",
       "    <tr>\n",
       "      <th>3</th>\n",
       "      <td>10/9/15</td>\n",
       "      <td>18:30:00</td>\n",
       "      <td>0</td>\n",
       "    </tr>\n",
       "    <tr>\n",
       "      <th>4</th>\n",
       "      <td>2/19/09</td>\n",
       "      <td>22:58:00</td>\n",
       "      <td>1</td>\n",
       "    </tr>\n",
       "    <tr>\n",
       "      <th>...</th>\n",
       "      <td>...</td>\n",
       "      <td>...</td>\n",
       "      <td>...</td>\n",
       "    </tr>\n",
       "    <tr>\n",
       "      <th>27307</th>\n",
       "      <td>5/14/22</td>\n",
       "      <td>3:02:00</td>\n",
       "      <td>0</td>\n",
       "    </tr>\n",
       "    <tr>\n",
       "      <th>27308</th>\n",
       "      <td>1/22/22</td>\n",
       "      <td>13:15:00</td>\n",
       "      <td>0</td>\n",
       "    </tr>\n",
       "    <tr>\n",
       "      <th>27309</th>\n",
       "      <td>6/18/22</td>\n",
       "      <td>3:29:00</td>\n",
       "      <td>0</td>\n",
       "    </tr>\n",
       "    <tr>\n",
       "      <th>27310</th>\n",
       "      <td>6/19/22</td>\n",
       "      <td>20:08:00</td>\n",
       "      <td>0</td>\n",
       "    </tr>\n",
       "    <tr>\n",
       "      <th>27311</th>\n",
       "      <td>1/28/22</td>\n",
       "      <td>18:14:00</td>\n",
       "      <td>0</td>\n",
       "    </tr>\n",
       "  </tbody>\n",
       "</table>\n",
       "<p>27312 rows × 3 columns</p>\n",
       "</div>"
      ],
      "text/plain": [
       "      OCCUR_DATE OCCUR_TIME  STATISTICAL_MURDER_FLAG\n",
       "0        5/27/21   21:30:00                        0\n",
       "1        6/27/14   17:40:00                        0\n",
       "2       11/21/15    3:56:00                        1\n",
       "3        10/9/15   18:30:00                        0\n",
       "4        2/19/09   22:58:00                        1\n",
       "...          ...        ...                      ...\n",
       "27307    5/14/22    3:02:00                        0\n",
       "27308    1/22/22   13:15:00                        0\n",
       "27309    6/18/22    3:29:00                        0\n",
       "27310    6/19/22   20:08:00                        0\n",
       "27311    1/28/22   18:14:00                        0\n",
       "\n",
       "[27312 rows x 3 columns]"
      ]
     },
     "execution_count": 7,
     "metadata": {},
     "output_type": "execute_result"
    }
   ],
   "source": [
    "Shooting_incidents['STATISTICAL_MURDER_FLAG'] = Shooting_incidents['STATISTICAL_MURDER_FLAG'].astype(int)\n",
    "Shooting_incidents"
   ]
  },
  {
   "cell_type": "code",
   "execution_count": null,
   "id": "b9cc3fbf-93b4-4617-a66d-49fef2b2a5ef",
   "metadata": {},
   "outputs": [],
   "source": [
    "###### Grouping the data of shooting incidents by occur_time, and summing them together.######"
   ]
  },
  {
   "cell_type": "code",
   "execution_count": 8,
   "id": "6af82acc-0a56-4f9b-96f2-23c03742cf51",
   "metadata": {},
   "outputs": [],
   "source": [
    "Shooting_incidentsNY = Shooting_incidents.groupby('OCCUR_DATE', as_index=False)['OCCUR_TIME'].sum()"
   ]
  },
  {
   "cell_type": "code",
   "execution_count": null,
   "id": "1afcbbac-077f-41c6-8121-e9df9068b93c",
   "metadata": {},
   "outputs": [],
   "source": [
    "###### Grouping the data by the date it occured and then counting...\n",
    "###### ...The total numer of statistical murder flags irrespective of it's...\n",
    "###### ...Truth value as a counter of how many shooting incidents took place that day. "
   ]
  },
  {
   "cell_type": "code",
   "execution_count": 9,
   "id": "4e87ab40-a30d-43fc-8347-084268e6b983",
   "metadata": {},
   "outputs": [],
   "source": [
    "Shooting_incidentsNY = Shooting_incidents.groupby('OCCUR_DATE', as_index=False)['STATISTICAL_MURDER_FLAG'].count()"
   ]
  },
  {
   "cell_type": "code",
   "execution_count": null,
   "id": "cac6ce75-fb56-4a0f-b905-f21ae7234edc",
   "metadata": {},
   "outputs": [],
   "source": [
    "###### Renaming the columns for easier merging."
   ]
  },
  {
   "cell_type": "code",
   "execution_count": 10,
   "id": "fe3c8019-5a51-4f40-98d0-28bdb2729796",
   "metadata": {},
   "outputs": [
    {
     "data": {
      "text/html": [
       "<div>\n",
       "<style scoped>\n",
       "    .dataframe tbody tr th:only-of-type {\n",
       "        vertical-align: middle;\n",
       "    }\n",
       "\n",
       "    .dataframe tbody tr th {\n",
       "        vertical-align: top;\n",
       "    }\n",
       "\n",
       "    .dataframe thead th {\n",
       "        text-align: right;\n",
       "    }\n",
       "</style>\n",
       "<table border=\"1\" class=\"dataframe\">\n",
       "  <thead>\n",
       "    <tr style=\"text-align: right;\">\n",
       "      <th></th>\n",
       "      <th>Date</th>\n",
       "      <th>STATISTICAL_MURDER_FLAG</th>\n",
       "    </tr>\n",
       "  </thead>\n",
       "  <tbody>\n",
       "    <tr>\n",
       "      <th>0</th>\n",
       "      <td>1/1/06</td>\n",
       "      <td>8</td>\n",
       "    </tr>\n",
       "    <tr>\n",
       "      <th>1</th>\n",
       "      <td>1/1/07</td>\n",
       "      <td>18</td>\n",
       "    </tr>\n",
       "    <tr>\n",
       "      <th>2</th>\n",
       "      <td>1/1/08</td>\n",
       "      <td>19</td>\n",
       "    </tr>\n",
       "    <tr>\n",
       "      <th>3</th>\n",
       "      <td>1/1/09</td>\n",
       "      <td>7</td>\n",
       "    </tr>\n",
       "    <tr>\n",
       "      <th>4</th>\n",
       "      <td>1/1/10</td>\n",
       "      <td>8</td>\n",
       "    </tr>\n",
       "    <tr>\n",
       "      <th>...</th>\n",
       "      <td>...</td>\n",
       "      <td>...</td>\n",
       "    </tr>\n",
       "    <tr>\n",
       "      <th>5756</th>\n",
       "      <td>9/9/16</td>\n",
       "      <td>4</td>\n",
       "    </tr>\n",
       "    <tr>\n",
       "      <th>5757</th>\n",
       "      <td>9/9/17</td>\n",
       "      <td>5</td>\n",
       "    </tr>\n",
       "    <tr>\n",
       "      <th>5758</th>\n",
       "      <td>9/9/18</td>\n",
       "      <td>2</td>\n",
       "    </tr>\n",
       "    <tr>\n",
       "      <th>5759</th>\n",
       "      <td>9/9/20</td>\n",
       "      <td>3</td>\n",
       "    </tr>\n",
       "    <tr>\n",
       "      <th>5760</th>\n",
       "      <td>9/9/22</td>\n",
       "      <td>4</td>\n",
       "    </tr>\n",
       "  </tbody>\n",
       "</table>\n",
       "<p>5761 rows × 2 columns</p>\n",
       "</div>"
      ],
      "text/plain": [
       "        Date  STATISTICAL_MURDER_FLAG\n",
       "0     1/1/06                        8\n",
       "1     1/1/07                       18\n",
       "2     1/1/08                       19\n",
       "3     1/1/09                        7\n",
       "4     1/1/10                        8\n",
       "...      ...                      ...\n",
       "5756  9/9/16                        4\n",
       "5757  9/9/17                        5\n",
       "5758  9/9/18                        2\n",
       "5759  9/9/20                        3\n",
       "5760  9/9/22                        4\n",
       "\n",
       "[5761 rows x 2 columns]"
      ]
     },
     "execution_count": 10,
     "metadata": {},
     "output_type": "execute_result"
    }
   ],
   "source": [
    "Shooting_incidentsNY = Shooting_incidentsNY.rename(columns={'OCCUR_DATE':'Date'})\n",
    "Shooting_incidentsNY"
   ]
  },
  {
   "cell_type": "code",
   "execution_count": null,
   "id": "5eb92d4d-bc10-434d-8046-29555a765ccc",
   "metadata": {},
   "outputs": [],
   "source": [
    "###### Merging the files on the date they occured. "
   ]
  },
  {
   "cell_type": "code",
   "execution_count": 11,
   "id": "8463595c-e33b-49f5-b712-1fb574dbff46",
   "metadata": {},
   "outputs": [],
   "source": [
    "Shooting_AQI_Merged = AQny.merge(Shooting_incidentsNY, on='Date')"
   ]
  },
  {
   "cell_type": "code",
   "execution_count": 12,
   "id": "5a7d4ae9-46d1-4268-8adf-fa25c0bbbbe6",
   "metadata": {},
   "outputs": [
    {
     "data": {
      "text/html": [
       "<div>\n",
       "<style scoped>\n",
       "    .dataframe tbody tr th:only-of-type {\n",
       "        vertical-align: middle;\n",
       "    }\n",
       "\n",
       "    .dataframe tbody tr th {\n",
       "        vertical-align: top;\n",
       "    }\n",
       "\n",
       "    .dataframe thead th {\n",
       "        text-align: right;\n",
       "    }\n",
       "</style>\n",
       "<table border=\"1\" class=\"dataframe\">\n",
       "  <thead>\n",
       "    <tr style=\"text-align: right;\">\n",
       "      <th></th>\n",
       "      <th>Date</th>\n",
       "      <th>Overall AQI Value</th>\n",
       "      <th>Main Pollutant</th>\n",
       "      <th>CO</th>\n",
       "      <th>Ozone</th>\n",
       "      <th>PM10</th>\n",
       "      <th>PM25</th>\n",
       "      <th>NO2</th>\n",
       "      <th>STATISTICAL_MURDER_FLAG</th>\n",
       "    </tr>\n",
       "  </thead>\n",
       "  <tbody>\n",
       "    <tr>\n",
       "      <th>0</th>\n",
       "      <td>1/1/17</td>\n",
       "      <td>59</td>\n",
       "      <td>PM2.5</td>\n",
       "      <td>11</td>\n",
       "      <td>34</td>\n",
       "      <td>11</td>\n",
       "      <td>59</td>\n",
       "      <td>44</td>\n",
       "      <td>7</td>\n",
       "    </tr>\n",
       "    <tr>\n",
       "      <th>1</th>\n",
       "      <td>1/2/17</td>\n",
       "      <td>60</td>\n",
       "      <td>PM2.5</td>\n",
       "      <td>13</td>\n",
       "      <td>33</td>\n",
       "      <td>.</td>\n",
       "      <td>60</td>\n",
       "      <td>43</td>\n",
       "      <td>7</td>\n",
       "    </tr>\n",
       "    <tr>\n",
       "      <th>2</th>\n",
       "      <td>1/3/17</td>\n",
       "      <td>43</td>\n",
       "      <td>PM2.5</td>\n",
       "      <td>7</td>\n",
       "      <td>32</td>\n",
       "      <td>.</td>\n",
       "      <td>43</td>\n",
       "      <td>42</td>\n",
       "      <td>3</td>\n",
       "    </tr>\n",
       "    <tr>\n",
       "      <th>3</th>\n",
       "      <td>1/4/17</td>\n",
       "      <td>46</td>\n",
       "      <td>PM2.5</td>\n",
       "      <td>6</td>\n",
       "      <td>32</td>\n",
       "      <td>7</td>\n",
       "      <td>46</td>\n",
       "      <td>27</td>\n",
       "      <td>2</td>\n",
       "    </tr>\n",
       "    <tr>\n",
       "      <th>4</th>\n",
       "      <td>1/5/17</td>\n",
       "      <td>49</td>\n",
       "      <td>PM2.5</td>\n",
       "      <td>6</td>\n",
       "      <td>32</td>\n",
       "      <td>.</td>\n",
       "      <td>49</td>\n",
       "      <td>28</td>\n",
       "      <td>1</td>\n",
       "    </tr>\n",
       "    <tr>\n",
       "      <th>...</th>\n",
       "      <td>...</td>\n",
       "      <td>...</td>\n",
       "      <td>...</td>\n",
       "      <td>...</td>\n",
       "      <td>...</td>\n",
       "      <td>...</td>\n",
       "      <td>...</td>\n",
       "      <td>...</td>\n",
       "      <td>...</td>\n",
       "    </tr>\n",
       "    <tr>\n",
       "      <th>1264</th>\n",
       "      <td>12/27/20</td>\n",
       "      <td>55</td>\n",
       "      <td>PM2.5</td>\n",
       "      <td>6</td>\n",
       "      <td>29</td>\n",
       "      <td>.</td>\n",
       "      <td>55</td>\n",
       "      <td>36</td>\n",
       "      <td>6</td>\n",
       "    </tr>\n",
       "    <tr>\n",
       "      <th>1265</th>\n",
       "      <td>12/28/20</td>\n",
       "      <td>55</td>\n",
       "      <td>PM2.5</td>\n",
       "      <td>6</td>\n",
       "      <td>30</td>\n",
       "      <td>.</td>\n",
       "      <td>55</td>\n",
       "      <td>42</td>\n",
       "      <td>2</td>\n",
       "    </tr>\n",
       "    <tr>\n",
       "      <th>1266</th>\n",
       "      <td>12/29/20</td>\n",
       "      <td>51</td>\n",
       "      <td>PM2.5</td>\n",
       "      <td>7</td>\n",
       "      <td>34</td>\n",
       "      <td>8</td>\n",
       "      <td>51</td>\n",
       "      <td>33</td>\n",
       "      <td>5</td>\n",
       "    </tr>\n",
       "    <tr>\n",
       "      <th>1267</th>\n",
       "      <td>12/30/20</td>\n",
       "      <td>45</td>\n",
       "      <td>PM2.5</td>\n",
       "      <td>5</td>\n",
       "      <td>32</td>\n",
       "      <td>.</td>\n",
       "      <td>45</td>\n",
       "      <td>41</td>\n",
       "      <td>2</td>\n",
       "    </tr>\n",
       "    <tr>\n",
       "      <th>1268</th>\n",
       "      <td>12/31/20</td>\n",
       "      <td>51</td>\n",
       "      <td>PM2.5</td>\n",
       "      <td>5</td>\n",
       "      <td>28</td>\n",
       "      <td>.</td>\n",
       "      <td>51</td>\n",
       "      <td>34</td>\n",
       "      <td>4</td>\n",
       "    </tr>\n",
       "  </tbody>\n",
       "</table>\n",
       "<p>1269 rows × 9 columns</p>\n",
       "</div>"
      ],
      "text/plain": [
       "          Date  Overall AQI Value Main Pollutant  CO  Ozone PM10  PM25  NO2  \\\n",
       "0       1/1/17                 59          PM2.5  11     34   11    59   44   \n",
       "1       1/2/17                 60          PM2.5  13     33    .    60   43   \n",
       "2       1/3/17                 43          PM2.5   7     32    .    43   42   \n",
       "3       1/4/17                 46          PM2.5   6     32    7    46   27   \n",
       "4       1/5/17                 49          PM2.5   6     32    .    49   28   \n",
       "...        ...                ...            ...  ..    ...  ...   ...  ...   \n",
       "1264  12/27/20                 55          PM2.5   6     29    .    55   36   \n",
       "1265  12/28/20                 55          PM2.5   6     30    .    55   42   \n",
       "1266  12/29/20                 51          PM2.5   7     34    8    51   33   \n",
       "1267  12/30/20                 45          PM2.5   5     32    .    45   41   \n",
       "1268  12/31/20                 51          PM2.5   5     28    .    51   34   \n",
       "\n",
       "      STATISTICAL_MURDER_FLAG  \n",
       "0                           7  \n",
       "1                           7  \n",
       "2                           3  \n",
       "3                           2  \n",
       "4                           1  \n",
       "...                       ...  \n",
       "1264                        6  \n",
       "1265                        2  \n",
       "1266                        5  \n",
       "1267                        2  \n",
       "1268                        4  \n",
       "\n",
       "[1269 rows x 9 columns]"
      ]
     },
     "execution_count": 12,
     "metadata": {},
     "output_type": "execute_result"
    }
   ],
   "source": [
    "Shooting_AQI_Merged"
   ]
  },
  {
   "cell_type": "code",
   "execution_count": 13,
   "id": "2154c8a6-f974-459d-93f9-2e3f3d866e9b",
   "metadata": {},
   "outputs": [],
   "source": [
    "Shooting_AQI_Merged.to_csv('Merge_df.csv')"
   ]
  },
  {
   "cell_type": "code",
   "execution_count": null,
   "id": "c4380c09-64b2-44ea-9982-6db16b543018",
   "metadata": {},
   "outputs": [],
   "source": [
    "###### Getting a description of the data "
   ]
  },
  {
   "cell_type": "code",
   "execution_count": 92,
   "id": "ce767c54-2e99-43d0-a860-9ffddfcafbbd",
   "metadata": {},
   "outputs": [
    {
     "data": {
      "text/html": [
       "<div>\n",
       "<style scoped>\n",
       "    .dataframe tbody tr th:only-of-type {\n",
       "        vertical-align: middle;\n",
       "    }\n",
       "\n",
       "    .dataframe tbody tr th {\n",
       "        vertical-align: top;\n",
       "    }\n",
       "\n",
       "    .dataframe thead th {\n",
       "        text-align: right;\n",
       "    }\n",
       "</style>\n",
       "<table border=\"1\" class=\"dataframe\">\n",
       "  <thead>\n",
       "    <tr style=\"text-align: right;\">\n",
       "      <th></th>\n",
       "      <th>Overall AQI Value</th>\n",
       "      <th>CO</th>\n",
       "      <th>Ozone</th>\n",
       "      <th>PM25</th>\n",
       "      <th>NO2</th>\n",
       "      <th>STATISTICAL_MURDER_FLAG</th>\n",
       "    </tr>\n",
       "  </thead>\n",
       "  <tbody>\n",
       "    <tr>\n",
       "      <th>count</th>\n",
       "      <td>1269.000000</td>\n",
       "      <td>1269.000000</td>\n",
       "      <td>1269.000000</td>\n",
       "      <td>1269.000000</td>\n",
       "      <td>1269.00000</td>\n",
       "      <td>1269.000000</td>\n",
       "    </tr>\n",
       "    <tr>\n",
       "      <th>mean</th>\n",
       "      <td>56.943262</td>\n",
       "      <td>7.663515</td>\n",
       "      <td>46.781718</td>\n",
       "      <td>47.574468</td>\n",
       "      <td>36.57368</td>\n",
       "      <td>3.816391</td>\n",
       "    </tr>\n",
       "    <tr>\n",
       "      <th>std</th>\n",
       "      <td>22.482589</td>\n",
       "      <td>3.331728</td>\n",
       "      <td>24.169821</td>\n",
       "      <td>15.053171</td>\n",
       "      <td>12.69269</td>\n",
       "      <td>3.424975</td>\n",
       "    </tr>\n",
       "    <tr>\n",
       "      <th>min</th>\n",
       "      <td>25.000000</td>\n",
       "      <td>2.000000</td>\n",
       "      <td>12.000000</td>\n",
       "      <td>12.000000</td>\n",
       "      <td>8.00000</td>\n",
       "      <td>1.000000</td>\n",
       "    </tr>\n",
       "    <tr>\n",
       "      <th>25%</th>\n",
       "      <td>42.000000</td>\n",
       "      <td>6.000000</td>\n",
       "      <td>32.000000</td>\n",
       "      <td>36.000000</td>\n",
       "      <td>28.00000</td>\n",
       "      <td>2.000000</td>\n",
       "    </tr>\n",
       "    <tr>\n",
       "      <th>50%</th>\n",
       "      <td>51.000000</td>\n",
       "      <td>7.000000</td>\n",
       "      <td>40.000000</td>\n",
       "      <td>47.000000</td>\n",
       "      <td>35.00000</td>\n",
       "      <td>3.000000</td>\n",
       "    </tr>\n",
       "    <tr>\n",
       "      <th>75%</th>\n",
       "      <td>64.000000</td>\n",
       "      <td>9.000000</td>\n",
       "      <td>48.000000</td>\n",
       "      <td>56.000000</td>\n",
       "      <td>43.00000</td>\n",
       "      <td>5.000000</td>\n",
       "    </tr>\n",
       "    <tr>\n",
       "      <th>max</th>\n",
       "      <td>210.000000</td>\n",
       "      <td>32.000000</td>\n",
       "      <td>210.000000</td>\n",
       "      <td>127.000000</td>\n",
       "      <td>107.00000</td>\n",
       "      <td>47.000000</td>\n",
       "    </tr>\n",
       "  </tbody>\n",
       "</table>\n",
       "</div>"
      ],
      "text/plain": [
       "       Overall AQI Value           CO        Ozone         PM25         NO2  \\\n",
       "count        1269.000000  1269.000000  1269.000000  1269.000000  1269.00000   \n",
       "mean           56.943262     7.663515    46.781718    47.574468    36.57368   \n",
       "std            22.482589     3.331728    24.169821    15.053171    12.69269   \n",
       "min            25.000000     2.000000    12.000000    12.000000     8.00000   \n",
       "25%            42.000000     6.000000    32.000000    36.000000    28.00000   \n",
       "50%            51.000000     7.000000    40.000000    47.000000    35.00000   \n",
       "75%            64.000000     9.000000    48.000000    56.000000    43.00000   \n",
       "max           210.000000    32.000000   210.000000   127.000000   107.00000   \n",
       "\n",
       "       STATISTICAL_MURDER_FLAG  \n",
       "count              1269.000000  \n",
       "mean                  3.816391  \n",
       "std                   3.424975  \n",
       "min                   1.000000  \n",
       "25%                   2.000000  \n",
       "50%                   3.000000  \n",
       "75%                   5.000000  \n",
       "max                  47.000000  "
      ]
     },
     "execution_count": 92,
     "metadata": {},
     "output_type": "execute_result"
    }
   ],
   "source": [
    "Shooting_AQI_Merged.describe()"
   ]
  },
  {
   "cell_type": "code",
   "execution_count": null,
   "id": "d60b90dd-afb0-4d5d-a62c-2d24328630db",
   "metadata": {},
   "outputs": [],
   "source": [
    "###### Some cursory scatterplots of the data as plotted against the count of murder flags. "
   ]
  },
  {
   "cell_type": "code",
   "execution_count": 14,
   "id": "f1b3659d-f528-4333-8050-3b3ab27b2f43",
   "metadata": {},
   "outputs": [
    {
     "data": {
      "text/plain": [
       "<AxesSubplot:xlabel='PM25', ylabel='STATISTICAL_MURDER_FLAG'>"
      ]
     },
     "execution_count": 14,
     "metadata": {},
     "output_type": "execute_result"
    },
    {
     "data": {
      "image/png": "[encoded data removed]",
      "text/plain": [
       "<Figure size 640x480 with 1 Axes>"
      ]
     },
     "metadata": {},
     "output_type": "display_data"
    }
   ],
   "source": [
    "Shooting_AQI_Merged.plot(kind='scatter', x='PM25', y='STATISTICAL_MURDER_FLAG')"
   ]
  },
  {
   "cell_type": "code",
   "execution_count": 15,
   "id": "3c21fd6c-51d0-41bd-87df-2839bb23d4dd",
   "metadata": {},
   "outputs": [
    {
     "data": {
      "text/plain": [
       "<AxesSubplot:xlabel='PM10', ylabel='STATISTICAL_MURDER_FLAG'>"
      ]
     },
     "execution_count": 15,
     "metadata": {},
     "output_type": "execute_result"
    },
    {
     "data": {
      "image/png": "[encoded data removed]",
      "text/plain": [
       "<Figure size 640x480 with 1 Axes>"
      ]
     },
     "metadata": {},
     "output_type": "display_data"
    }
   ],
   "source": [
    "Shooting_AQI_Merged.plot(kind='scatter', x='PM10', y='STATISTICAL_MURDER_FLAG')"
   ]
  },
  {
   "cell_type": "code",
   "execution_count": 16,
   "id": "d281197c-b841-492f-a901-8dc7ac4b45c1",
   "metadata": {},
   "outputs": [
    {
     "data": {
      "text/plain": [
       "<AxesSubplot:xlabel='Ozone', ylabel='STATISTICAL_MURDER_FLAG'>"
      ]
     },
     "execution_count": 16,
     "metadata": {},
     "output_type": "execute_result"
    },
    {
     "data": {
      "image/png": "[encoded data removed]",
      "text/plain": [
       "<Figure size 640x480 with 1 Axes>"
      ]
     },
     "metadata": {},
     "output_type": "display_data"
    }
   ],
   "source": [
    "Shooting_AQI_Merged.plot(kind='scatter', x='Ozone', y='STATISTICAL_MURDER_FLAG')"
   ]
  },
  {
   "cell_type": "code",
   "execution_count": 17,
   "id": "aa627784-033d-41d1-a0c6-6fbc08138bd2",
   "metadata": {},
   "outputs": [
    {
     "data": {
      "text/plain": [
       "<AxesSubplot:xlabel='CO', ylabel='STATISTICAL_MURDER_FLAG'>"
      ]
     },
     "execution_count": 17,
     "metadata": {},
     "output_type": "execute_result"
    },
    {
     "data": {
      "image/png": "[encoded data removed]",
      "text/plain": [
       "<Figure size 640x480 with 1 Axes>"
      ]
     },
     "metadata": {},
     "output_type": "display_data"
    }
   ],
   "source": [
    "Shooting_AQI_Merged.plot(kind='scatter', x='CO', y='STATISTICAL_MURDER_FLAG')"
   ]
  },
  {
   "cell_type": "code",
   "execution_count": 18,
   "id": "cc313921-a4ba-476e-836f-dd4ce87bbc24",
   "metadata": {},
   "outputs": [
    {
     "data": {
      "text/plain": [
       "<AxesSubplot:xlabel='NO2', ylabel='STATISTICAL_MURDER_FLAG'>"
      ]
     },
     "execution_count": 18,
     "metadata": {},
     "output_type": "execute_result"
    },
    {
     "data": {
      "image/png": "[encoded data removed]",
      "text/plain": [
       "<Figure size 640x480 with 1 Axes>"
      ]
     },
     "metadata": {},
     "output_type": "display_data"
    }
   ],
   "source": [
    "Shooting_AQI_Merged.plot(kind='scatter', x='NO2', y='STATISTICAL_MURDER_FLAG')"
   ]
  },
  {
   "cell_type": "code",
   "execution_count": null,
   "id": "ac4a5a5a-45bf-458d-aa61-2b40f94f5bec",
   "metadata": {},
   "outputs": [],
   "source": [
    "###### Getting the correlation of the dataset columns with one another ######"
   ]
  },
  {
   "cell_type": "code",
   "execution_count": 19,
   "id": "5966b730-79e0-44e0-a90e-771fe7a1bc72",
   "metadata": {},
   "outputs": [
    {
     "name": "stdout",
     "output_type": "stream",
     "text": [
      "                         Overall AQI Value        CO     Ozone      PM25  \\\n",
      "Overall AQI Value                 1.000000  0.193858  0.824909  0.693410   \n",
      "CO                                0.193858  1.000000 -0.092032  0.427906   \n",
      "Ozone                             0.824909 -0.092032  1.000000  0.305188   \n",
      "PM25                              0.693410  0.427906  0.305188  1.000000   \n",
      "NO2                               0.387275  0.450822  0.092898  0.451717   \n",
      "STATISTICAL_MURDER_FLAG           0.110138  0.013587  0.147744  0.046499   \n",
      "\n",
      "                              NO2  STATISTICAL_MURDER_FLAG  \n",
      "Overall AQI Value        0.387275                 0.110138  \n",
      "CO                       0.450822                 0.013587  \n",
      "Ozone                    0.092898                 0.147744  \n",
      "PM25                     0.451717                 0.046499  \n",
      "NO2                      1.000000                -0.131077  \n",
      "STATISTICAL_MURDER_FLAG -0.131077                 1.000000  \n"
     ]
    }
   ],
   "source": [
    "print(Shooting_AQI_Merged.corr())"
   ]
  },
  {
   "cell_type": "code",
   "execution_count": 74,
   "id": "e09164da-e548-4401-bd34-2296f1d6f89d",
   "metadata": {},
   "outputs": [],
   "source": [
    "############################################################\n",
    "############################################################"
   ]
  },
  {
   "cell_type": "code",
   "execution_count": null,
   "id": "7057b418-31c9-4722-940a-959481924ac5",
   "metadata": {},
   "outputs": [],
   "source": [
    "###### Modules for linear regression and onehotencoding the main pollutant column...\n",
    "######"
   ]
  },
  {
   "cell_type": "code",
   "execution_count": 20,
   "id": "fb8a7785-dbef-42c7-ad56-e3292d8fb865",
   "metadata": {},
   "outputs": [],
   "source": [
    "from sklearn import preprocessing, svm\n",
    "from sklearn.model_selection import train_test_split\n",
    "from sklearn.linear_model import LinearRegression\n",
    "from sklearn.preprocessing import OneHotEncoder\n",
    "from sklearn.compose import make_column_transformer\n",
    "from sklearn import linear_model\n",
    "from sklearn import metrics\n",
    "from sklearn.metrics import mean_squared_error, mean_absolute_error"
   ]
  },
  {
   "cell_type": "code",
   "execution_count": null,
   "id": "64a20e71-b178-4d19-bf94-0c6fb53292bb",
   "metadata": {},
   "outputs": [],
   "source": [
    "###### Encoding the categoical column for the X value to be fed into the linear regression model. "
   ]
  },
  {
   "cell_type": "code",
   "execution_count": 21,
   "id": "168419a6-ef22-4b02-975d-275b28c0b17d",
   "metadata": {},
   "outputs": [],
   "source": [
    "X = Shooting_AQI_Merged['Main Pollutant'].values.reshape(-1, 1)\n",
    "Main_encoded = OneHotEncoder().fit(X)"
   ]
  },
  {
   "cell_type": "code",
   "execution_count": 22,
   "id": "9bace856-d046-4a02-9519-5a56acc00991",
   "metadata": {},
   "outputs": [
    {
     "name": "stdout",
     "output_type": "stream",
     "text": [
      "[[0. 0. 1.]\n",
      " [0. 0. 1.]\n",
      " [0. 0. 1.]\n",
      " ...\n",
      " [0. 0. 1.]\n",
      " [0. 0. 1.]\n",
      " [0. 0. 1.]]\n"
     ]
    }
   ],
   "source": [
    "X = Main_encoded.transform(X).toarray()\n",
    "print(X)"
   ]
  },
  {
   "cell_type": "code",
   "execution_count": null,
   "id": "66560e21-0c67-4115-a250-d3f38d7fa91a",
   "metadata": {},
   "outputs": [],
   "source": [
    "###### Reshaping Y. "
   ]
  },
  {
   "cell_type": "code",
   "execution_count": 28,
   "id": "a08eb46b-9a8a-4d5f-93b4-046387e640f4",
   "metadata": {},
   "outputs": [],
   "source": [
    "y = Shooting_AQI_Merged['STATISTICAL_MURDER_FLAG'].values.reshape(-1, 1)"
   ]
  },
  {
   "cell_type": "code",
   "execution_count": null,
   "id": "34556a09-44e0-4295-abf8-33f5ec5ccaec",
   "metadata": {},
   "outputs": [],
   "source": [
    "###### Splitting our test and train sets for supervised learning"
   ]
  },
  {
   "cell_type": "code",
   "execution_count": 75,
   "id": "92639f32-8fd5-44f4-80c9-dd5aead86c1e",
   "metadata": {},
   "outputs": [],
   "source": [
    "X_train, X_test, y_train, y_test = train_test_split(X, y, test_size = 0.20)"
   ]
  },
  {
   "cell_type": "code",
   "execution_count": 76,
   "id": "446bd280-98c6-430d-b5ad-089ff9ec1fa3",
   "metadata": {},
   "outputs": [],
   "source": [
    "shoot_New_model = linear_model.LinearRegression()"
   ]
  },
  {
   "cell_type": "code",
   "execution_count": null,
   "id": "3251ec34-56d4-4fbb-82fd-335fb03a762d",
   "metadata": {},
   "outputs": [],
   "source": [
    "###### Fitting to model "
   ]
  },
  {
   "cell_type": "code",
   "execution_count": 77,
   "id": "f4ae3df2-cea5-496a-afb3-cd709eaeaccc",
   "metadata": {},
   "outputs": [],
   "source": [
    "shoot_New_model = LinearRegression().fit(X_train, y_train)"
   ]
  },
  {
   "cell_type": "code",
   "execution_count": null,
   "id": "b65769af-1aa3-4a71-9e9b-8eba60e881d4",
   "metadata": {},
   "outputs": [],
   "source": [
    "###### Getting the intercept for the model "
   ]
  },
  {
   "cell_type": "code",
   "execution_count": 78,
   "id": "dd99dd99-504e-4b14-89ee-85df46a402ca",
   "metadata": {},
   "outputs": [
    {
     "name": "stdout",
     "output_type": "stream",
     "text": [
      "[3.62570931]\n"
     ]
    }
   ],
   "source": [
    "print(shoot_New_model.intercept_)"
   ]
  },
  {
   "cell_type": "code",
   "execution_count": null,
   "id": "f6b4772d-21e7-4abf-a4f6-232caf572839",
   "metadata": {},
   "outputs": [],
   "source": [
    "###### Model Coefficient"
   ]
  },
  {
   "cell_type": "code",
   "execution_count": 79,
   "id": "f1e77c96-da62-4cc7-b0a3-59872dfd2ea0",
   "metadata": {},
   "outputs": [
    {
     "data": {
      "text/plain": [
       "array([[-0.54535217,  0.53013484,  0.01521733]])"
      ]
     },
     "execution_count": 79,
     "metadata": {},
     "output_type": "execute_result"
    }
   ],
   "source": [
    "shoot_New_model.coef_"
   ]
  },
  {
   "cell_type": "code",
   "execution_count": null,
   "id": "b6d07b77-9143-439c-af86-7510e716ee26",
   "metadata": {},
   "outputs": [],
   "source": [
    "###### Predicting the Y values given the X_test set of our dataset. "
   ]
  },
  {
   "cell_type": "code",
   "execution_count": 80,
   "id": "27ffe43f-7881-42cd-b5a8-983522e47b1f",
   "metadata": {},
   "outputs": [],
   "source": [
    "Y_pred_new = shoot_New_model.predict(X_test)"
   ]
  },
  {
   "cell_type": "code",
   "execution_count": null,
   "id": "2ebf33f2-4332-4425-a63d-c65f4f1c829f",
   "metadata": {},
   "outputs": [],
   "source": [
    "###### Visualization of linear regression model of seperate values for each particulate/pollutant."
   ]
  },
  {
   "cell_type": "code",
   "execution_count": 87,
   "id": "3400e6b2-c516-4690-ae5d-e378d6497fa2",
   "metadata": {},
   "outputs": [
    {
     "data": {
      "text/plain": [
       "<AxesSubplot:xlabel='Ozone', ylabel='STATISTICAL_MURDER_FLAG'>"
      ]
     },
     "execution_count": 87,
     "metadata": {},
     "output_type": "execute_result"
    },
    {
     "data": {
      "image/png": "[encoded data removed]",
      "text/plain": [
       "<Figure size 640x480 with 1 Axes>"
      ]
     },
     "metadata": {},
     "output_type": "display_data"
    }
   ],
   "source": [
    "sns.regplot(x='Ozone', y='STATISTICAL_MURDER_FLAG', data=Shooting_AQI_Merged)"
   ]
  },
  {
   "cell_type": "code",
   "execution_count": 88,
   "id": "f8b08de6-a823-49ae-894c-51aa29d93f52",
   "metadata": {},
   "outputs": [
    {
     "data": {
      "text/plain": [
       "<AxesSubplot:xlabel='NO2', ylabel='STATISTICAL_MURDER_FLAG'>"
      ]
     },
     "execution_count": 88,
     "metadata": {},
     "output_type": "execute_result"
    },
    {
     "data": {
      "image/png": "[encoded data removed]",
      "text/plain": [
       "<Figure size 640x480 with 1 Axes>"
      ]
     },
     "metadata": {},
     "output_type": "display_data"
    }
   ],
   "source": [
    "sns.regplot(x='NO2', y='STATISTICAL_MURDER_FLAG', data=Shooting_AQI_Merged)"
   ]
  },
  {
   "cell_type": "code",
   "execution_count": 89,
   "id": "49cbd881-1387-44ec-ba2d-521edcf7dc4f",
   "metadata": {},
   "outputs": [
    {
     "data": {
      "text/plain": [
       "<AxesSubplot:xlabel='CO', ylabel='STATISTICAL_MURDER_FLAG'>"
      ]
     },
     "execution_count": 89,
     "metadata": {},
     "output_type": "execute_result"
    },
    {
     "data": {
      "image/png": "[encoded data removed]",
      "text/plain": [
       "<Figure size 640x480 with 1 Axes>"
      ]
     },
     "metadata": {},
     "output_type": "display_data"
    }
   ],
   "source": [
    "sns.regplot(x='CO', y='STATISTICAL_MURDER_FLAG', data=Shooting_AQI_Merged)"
   ]
  },
  {
   "cell_type": "code",
   "execution_count": 91,
   "id": "29edaa61-f1ad-4dd6-8fdc-f8dc86282ce5",
   "metadata": {},
   "outputs": [
    {
     "data": {
      "text/plain": [
       "<AxesSubplot:xlabel='PM25', ylabel='STATISTICAL_MURDER_FLAG'>"
      ]
     },
     "execution_count": 91,
     "metadata": {},
     "output_type": "execute_result"
    },
    {
     "data": {
      "image/png": "[encoded data removed]",
      "text/plain": [
       "<Figure size 640x480 with 1 Axes>"
      ]
     },
     "metadata": {},
     "output_type": "display_data"
    }
   ],
   "source": [
    "sns.regplot(x='PM25', y='STATISTICAL_MURDER_FLAG', data=Shooting_AQI_Merged)"
   ]
  },
  {
   "cell_type": "code",
   "execution_count": null,
   "id": "c3d1824c-79be-4516-b660-1cded75555ec",
   "metadata": {},
   "outputs": [],
   "source": []
  }
 ],
 "metadata": {
  "kernelspec": {
   "display_name": "Python 3 (ipykernel)",
   "language": "python",
   "name": "python3"
  },
  "language_info": {
   "codemirror_mode": {
    "name": "ipython",
    "version": 3
   },
   "file_extension": ".py",
   "mimetype": "text/x-python",
   "name": "python",
   "nbconvert_exporter": "python",
   "pygments_lexer": "ipython3",
   "version": "3.8.8"
  }
 },
 "nbformat": 4,
 "nbformat_minor": 5
}
